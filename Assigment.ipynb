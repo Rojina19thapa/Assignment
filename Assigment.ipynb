{
 "cells": [
  {
   "cell_type": "markdown",
   "metadata": {},
   "source": [
    "SECTION 1:Conditional Statement."
   ]
  },
  {
   "cell_type": "code",
   "execution_count": null,
   "metadata": {},
   "outputs": [
    {
     "name": "stdout",
     "output_type": "stream",
     "text": [
      "24 is even number.\n"
     ]
    }
   ],
   "source": [
    "#1.Write a program that asks the user to enter a number and checks whether the number is even or odd.\n",
    "# Input number from the user\n",
    "num = int(input(\"Enter a number:\"))\n",
    "if num % 2 == 0: #statement to check whether the number is even or odd.\n",
    "    print(f\"{num} is even number.\")\n",
    "else:\n",
    "    print(f\"{num} is odd number.\")  \n",
    "\n",
    "\n"
   ]
  },
  {
   "cell_type": "code",
   "execution_count": 7,
   "metadata": {},
   "outputs": [
    {
     "name": "stdout",
     "output_type": "stream",
     "text": [
      "8.0 is a positive number.\n"
     ]
    }
   ],
   "source": [
    "#2.Write a program that asks the user to enter a number and checks whether it is positive, negative, or zero.\n",
    "# Input number from the user\n",
    "num = float(input(\"Enter a number:\"))\n",
    "if num > 0: #statement to check whether the number is positive, negative, or zero.\n",
    "    print (f\"{num} is a positive number.\")\n",
    "elif num < 0:\n",
    "    print (f\"{num} is a negative number.\")\n",
    "else:\n",
    "    print (f\"{num} is zero.\")\n",
    "\n",
    "\n",
    "\n"
   ]
  },
  {
   "cell_type": "code",
   "execution_count": null,
   "metadata": {},
   "outputs": [
    {
     "name": "stdout",
     "output_type": "stream",
     "text": [
      "You are eligible to vote.\n"
     ]
    }
   ],
   "source": [
    "#3.Write a program that asks the user to enter their age and checks if they are eligible to vote (18 years or older).\n",
    "#Input number from the user.\n",
    "age = int(input(\"Enter a number:\"))\n",
    "if age > 18:\n",
    "    print (f\"You are eligible to vote.\")\n",
    "else:\n",
    "    print (f\"You are not eligible to vote.\")    "
   ]
  },
  {
   "cell_type": "code",
   "execution_count": 14,
   "metadata": {},
   "outputs": [
    {
     "name": "stdout",
     "output_type": "stream",
     "text": [
      "It is a scalene triangle.\n"
     ]
    }
   ],
   "source": [
    "#4.Write a program that takes the lengths of three sides of a triangle as input and determines if the triangle is:\n",
    "#Equilateral,Isosceles,Scalene .\n",
    "l1=float(input(\"Enter a length of first side of triangle:\"))\n",
    "l2=float(input(\"Enter a length of second side of triangle:\"))\n",
    "l3=float(input(\"Enter a length of third side of triangle: \"))\n",
    "if l1==l2==l3:  #Statement for equilateral triangle.\n",
    "    print (\"It is an equilateral triangle.\")\n",
    "if l1==l2>l3 or l2==l1 or l1==l3>l2:  #statement for isosceles.\n",
    "    print(\"It is isosceles triangle\") \n",
    "if l1!=l2!=l3:  #statement for scalene.\n",
    "    print(\"It is a scalene triangle.\")    \n",
    "    \n",
    "    \n",
    "\n"
   ]
  },
  {
   "cell_type": "code",
   "execution_count": 1,
   "metadata": {},
   "outputs": [
    {
     "name": "stdout",
     "output_type": "stream",
     "text": [
      "You have logged in.\n"
     ]
    }
   ],
   "source": [
    "#5.Write a program that asks the user to enter a password and checks if it matches a predefined password (e.g., \"python123\".)\n",
    "#Input password from the user.\n",
    "predefined_password = \"Python123\"\n",
    "password=input(\"Enter a password:\") \n",
    "if password== predefined_password:          #Statement to check password.\n",
    "    print(\"You have logged in.\")\n",
    "else:\n",
    "    print(\"Enter a correct password.\")\n",
    "        \n",
    "\n",
    "\n"
   ]
  },
  {
   "cell_type": "markdown",
   "metadata": {},
   "source": [
    "SECTION 2: For Loops"
   ]
  },
  {
   "cell_type": "code",
   "execution_count": 3,
   "metadata": {},
   "outputs": [
    {
     "name": "stdout",
     "output_type": "stream",
     "text": [
      "10*1 =10\n",
      "10*2 =20\n",
      "10*3 =30\n",
      "10*4 =40\n",
      "10*5 =50\n",
      "10*6 =60\n",
      "10*7 =70\n",
      "10*8 =80\n",
      "10*9 =90\n",
      "10*10 =100\n"
     ]
    }
   ],
   "source": [
    "#1.Multiplication Table: Write a Python program to print the multiplication table of a given number using a for loop. e.g input:5, output:5,10,15,...50.\n",
    "num=10    #given number\n",
    "#Loop to print multiplication table:\n",
    "for i in range(1,11):  #it means start from 1 and end at 10.\n",
    "    print(f\"{num}*{i} ={num*i}\")\n",
    "\n",
    "\n"
   ]
  },
  {
   "cell_type": "code",
   "execution_count": 8,
   "metadata": {},
   "outputs": [
    {
     "name": "stdout",
     "output_type": "stream",
     "text": [
      "number of vowels in the string is 3\n"
     ]
    }
   ],
   "source": [
    "#2.Count Vowels: Write a program to count and display the number of vowels in a given string.\n",
    "input_string = input(\"Enter a string\")\n",
    "\n",
    "#Vowels to check for\n",
    "vowels= \"aeiouAEIOU\"\n",
    "count=0 #Variable to store the count of vowels.\n",
    "for char in input_string:           #for loop\n",
    "    if char in vowels:              #if statement to check vowels.\n",
    "        count+=1                   #if there are vowels then to count them.\n",
    "print(f\"number of vowels in the string is {count}\")   \n",
    "#Checked for \"Rojina\"  It showed 3.\n",
    "\n"
   ]
  },
  {
   "cell_type": "code",
   "execution_count": 11,
   "metadata": {},
   "outputs": [
    {
     "name": "stdout",
     "output_type": "stream",
     "text": [
      "The sum of all even numbers is: 272\n"
     ]
    }
   ],
   "source": [
    "#3.Sum of Even number create a program to find the sum of all even numbers in a list using a for loop. E.,g:input:{2,5,8,3},output:10\n",
    "numbers={2,5,10,28,33,56,79,84,92}\n",
    "sum=0  #intialize sum of even number to zero.\n",
    "for num in numbers:\n",
    "    if num%2==0:\n",
    "        sum+=num\n",
    "print(f\"The sum of all even numbers is:\",sum)        "
   ]
  },
  {
   "cell_type": "code",
   "execution_count": 13,
   "metadata": {},
   "outputs": [
    {
     "name": "stdout",
     "output_type": "stream",
     "text": [
      "List of numbers: [20, 32, 58, 85, 10, 90]\n",
      "Largest number : 90\n",
      "Smallest number : 10\n"
     ]
    }
   ],
   "source": [
    "#4.Create a program to find the largest and smallest number in a list using a for loop.eg.input={10,20,5,8},output=Largest=20 and Smallest=5\n",
    "def largest_and_smallest(numbers):\n",
    "    largest=numbers[0]\n",
    "    smallest=numbers[0]\n",
    "    for num in numbers:\n",
    "        if num>largest:\n",
    "            largest=num\n",
    "        if num<smallest:\n",
    "            smallest =num\n",
    "    return largest,smallest\n",
    "\n",
    "numbers=[20,32,58,85,10,90]    #predefined list\n",
    "largest,smallest= largest_and_smallest(numbers)\n",
    "\n",
    "print(\"List of numbers:\",numbers)\n",
    "print(\"Largest number :\",largest)\n",
    "print(\"Smallest number :\",smallest)\n",
    "\n",
    "    \n"
   ]
  },
  {
   "cell_type": "code",
   "execution_count": 5,
   "metadata": {},
   "outputs": [
    {
     "name": "stdout",
     "output_type": "stream",
     "text": [
      "the sum of the digit of 1234 is:10 \n"
     ]
    }
   ],
   "source": [
    "#5.Write a program to calculate the sum of digits of a given number using a for loop.E.g=input=1234,output=10\n",
    "number=int(input(\"Enter numbers\"))\n",
    "total=0  #initializing the number.\n",
    "for digit in str(number): #Converting number into a string.\n",
    "    total+=int(digit)   #Converting character back to integer.\n",
    "print(f\"the sum of the digit of {number} is:{total} \")    "
   ]
  },
  {
   "cell_type": "code",
   "execution_count": 6,
   "metadata": {},
   "outputs": [
    {
     "name": "stdout",
     "output_type": "stream",
     "text": [
      "The reversed string of 'python' is: 'nohtyp\n"
     ]
    }
   ],
   "source": [
    "#6.Write a program to reverse a given string using a for loop. Example: Input=\"Python\",Output=\"nohtyP\"\n",
    "input_string = \"python\"\n",
    "#Initializing an empty string for the reversed result.\n",
    "reversed_string =\"\"\n",
    "for char in input_string:\n",
    "    reversed_string = char+reversed_string  #Adding each character at the beginning\n",
    "print(f\"The reversed string of '{input_string}' is: '{reversed_string}\")    "
   ]
  },
  {
   "cell_type": "markdown",
   "metadata": {},
   "source": [
    "SECTION 3: Functions"
   ]
  },
  {
   "cell_type": "code",
   "execution_count": 8,
   "metadata": {},
   "outputs": [
    {
     "name": "stdout",
     "output_type": "stream",
     "text": [
      "the factorial of 6 is 720\n"
     ]
    }
   ],
   "source": [
    "#1.Factorial Function: Write a function factorial(n) that returns the factorial of a number using a for loop.\n",
    "def factorial(n):\n",
    "    result =1\n",
    "    for i in range(1,n+1):\n",
    "        result*=i\n",
    "    return result \n",
    "number=int(input(\"Enter a number\"))   \n",
    "print(f\"the factorial of {number} is {factorial(number)}\")\n"
   ]
  },
  {
   "cell_type": "code",
   "execution_count": 9,
   "metadata": {},
   "outputs": [
    {
     "name": "stdout",
     "output_type": "stream",
     "text": [
      "7 is a prime number.\n"
     ]
    }
   ],
   "source": [
    "#2.Prime Check Function: Create a function is_prime(n) to check whether a number is prime. Example: Input:7 and Output:True\n",
    "def function_is_prime(n):\n",
    "    if n<=1:\n",
    "        return False\n",
    "    for i in range(2,int(n**0.5)+1):\n",
    "        if n%i==0:\n",
    "            return False\n",
    "    return True\n",
    "num=int(input(\"Enter a number:\"))  \n",
    "if function_is_prime(num):\n",
    "    print(f\"{num} is a prime number.\")\n",
    "else:\n",
    "    print(f\"{num} is not a prime number.\")     \n"
   ]
  },
  {
   "cell_type": "code",
   "execution_count": 1,
   "metadata": {},
   "outputs": [
    {
     "name": "stdout",
     "output_type": "stream",
     "text": [
      "The maximum value is: 8\n"
     ]
    }
   ],
   "source": [
    "#3.Find Maximum in list:Write a function find_max(lst) to find and return the maximum value in a list. Example: Input:(1,3,7,0) Output:7\n",
    "def find_max(list):\n",
    "    if not list:  #Check if the list is empty\n",
    "        return None   #return empty list.\n",
    "    \n",
    "    max_value = list[0]  #Assuming the first element is the maximum.\n",
    "    for num in list:\n",
    "        if num>max_value:\n",
    "            max_value=num  #Update the maximum value\n",
    "    return max_value    #Return the maximum value\n",
    "#Testing the function\n",
    "numbers = [1,4,6,8,2]   \n",
    "max_value = find_max(numbers) \n",
    "print(\"The maximum value is:\",max_value)    "
   ]
  },
  {
   "cell_type": "code",
   "execution_count": 1,
   "metadata": {},
   "outputs": [
    {
     "name": "stdout",
     "output_type": "stream",
     "text": [
      "True\n"
     ]
    }
   ],
   "source": [
    "#4.Write  a function palindrome_check(string) that returns True if the given string is a palindrome, otherwise False. Example:input=\"radar\" , output =True\n",
    "def palindrome_check(string):\n",
    "    cleaned_string = string.lower()  #Converted string to lower case\n",
    "    return cleaned_string == cleaned_string[::-1]    #comparing string with reverse\n",
    "result = palindrome_check(\"mom\")    \n",
    "print(result)"
   ]
  },
  {
   "cell_type": "code",
   "execution_count": 2,
   "metadata": {},
   "outputs": [
    {
     "name": "stdout",
     "output_type": "stream",
     "text": [
      "Sum of squares (Iteratives): 14\n"
     ]
    }
   ],
   "source": [
    "#5.Write a function sum_of_squares(n) that returns the sum of square of fisrt n natural number.\n",
    "def sum_of_squares(n):\n",
    "    total = 0\n",
    "    # Loop through the first n natural numbers\n",
    "    for i in range(1, n + 1):\n",
    "        total += i ** 2  #Adding the square of the current number to the total\n",
    "    return total\n",
    "n=3\n",
    "print(\"Sum of squares (Iteratives):\", sum_of_squares(n))  "
   ]
  },
  {
   "cell_type": "markdown",
   "metadata": {},
   "source": [
    "SECTION 4: Classes"
   ]
  },
  {
   "cell_type": "code",
   "execution_count": 11,
   "metadata": {},
   "outputs": [
    {
     "name": "stdout",
     "output_type": "stream",
     "text": [
      "Area of the rectangle:50\n",
      "Perimeter of the rectangle:30\n"
     ]
    }
   ],
   "source": [
    "#1. Rectangle class : Define a class rectangle with two attribut e length and width. A method area()to calculate area and\n",
    "# A method perimeter() to calculate the perimeter.\n",
    "\n",
    "class rectangle:\n",
    "    def __init__(self,length,width):\n",
    "        self.length=length\n",
    "        self.width=width\n",
    "    def area(self):\n",
    "        return self.length*self.width  #to calculate area length*width\n",
    "    def perimeter(self):\n",
    "        return 2*(self.length+self.width)  #to calculate perimeter 2*(l+w)\n",
    "\n",
    "length=int(input(\"Enter a length\"))  \n",
    "width=int(input(\"Enter a width\"))  \n",
    "rect=rectangle (length,width)  #creating object\n",
    "\n",
    "print(f\"Area of the rectangle:{rect.area()}\")\n",
    "print(f\"Perimeter of the rectangle:{rect.perimeter()}\")\n",
    "\n",
    "#Output:\n",
    "length=10\n",
    "width=5\n",
    "\n",
    "    \n"
   ]
  },
  {
   "cell_type": "code",
   "execution_count": 5,
   "metadata": {},
   "outputs": [
    {
     "name": "stdout",
     "output_type": "stream",
     "text": [
      "You are pass.\n"
     ]
    }
   ],
   "source": [
    "#2. Student Class: Create a class Student with :Attribute:name,roll_no,and marks.\n",
    "#A method display_details() to print the student's details.\n",
    "#A method is_'passed() that returns True if marks>=40,else false.\n",
    "\n",
    "class student:\n",
    "    def __init__(self,name,roll_no,marks):\n",
    "        self.name=name\n",
    "        self.roll_no=roll_no\n",
    "        self.marks=marks\n",
    "\n",
    "    def display_details(self):\n",
    "        print(f\"Name is {self.name}\") \n",
    "        print(f\"roll_no is: {self.roll_no}\")\n",
    "        print(f\"Marks is:{self.marks}\")\n",
    "\n",
    "    def is_passed(self):\n",
    "        return self.marks>=40  #to check if the condition is matches or not.\n",
    "student=student(\"Rojina\",102,82) \n",
    "student.display_details\n",
    "if student.is_passed():\n",
    "    print(f\"You are pass.\")  \n",
    "else:\n",
    "    print(f\"You are fail\")    \n",
    "    "
   ]
  },
  {
   "cell_type": "code",
   "execution_count": 6,
   "metadata": {},
   "outputs": [
    {
     "name": "stdout",
     "output_type": "stream",
     "text": [
      "Radius of the circle:5\n",
      "Area of the circle:78.539816\n",
      "Circumference of the circle:31.415927\n"
     ]
    }
   ],
   "source": [
    "#3. Define a circle with:Attribute:radius\n",
    "#:Method: area() to calculate the area, circumference.\n",
    "\n",
    "import math\n",
    "class circle:\n",
    "    def __init__(self,radius):\n",
    "        self.radius=radius\n",
    "\n",
    "    def area(self):\n",
    "        return math.pi*(self.radius**2)   #to calculate area of circle.\n",
    "\n",
    "    def circumference(self):\n",
    "        return 2*math.pi*self.radius  #to calculate circumference of circle.\n",
    "    \n",
    "radius = 5\n",
    "circle=circle(radius)  \n",
    "\n",
    "print(f\"Radius of the circle:{circle.radius}\")\n",
    "print(f\"Area of the circle:{circle.area():2f}\")\n",
    "print(f\"Circumference of the circle:{circle.circumference():2f}\")\n",
    "    \n"
   ]
  },
  {
   "cell_type": "code",
   "execution_count": 1,
   "metadata": {},
   "outputs": [
    {
     "name": "stdout",
     "output_type": "stream",
     "text": [
      "current balance: 1000\n",
      "Deposited 500. New balance: 1500\n",
      "withdrew 300. New balance: 1200\n",
      "current balance: 1200\n"
     ]
    }
   ],
   "source": [
    "#4.Create a class BankAccount with:Attributes:account_number, account_holder,balance.\n",
    "#Methods:deposite(amount) to add money to the account.\n",
    "#withdraw(amount) to subtract money(if sufficient balance is available)\n",
    "#display_balance() to print the current balance.\n",
    "\n",
    "class BankAccount:\n",
    "    def __init__(self, account_number, account_holder, balance=0):\n",
    "        self.account_number = account_number\n",
    "        self.account_holder = account_holder\n",
    "        self.balance = balance\n",
    "\n",
    "    def deposite(self, amount):\n",
    "        if amount > 0:\n",
    "            self.balance += amount\n",
    "            print(f\"Deposited {amount}. New balance: {self.balance}\")  \n",
    "        else:\n",
    "            print(\"Deposited amount must be greater than zero.\")  \n",
    "\n",
    "    def withdraw(self, amount):\n",
    "        if amount > self.balance:\n",
    "            print(\"Insufficient balance for this withdrawal.\")  \n",
    "        elif amount <= 0:\n",
    "            print(\"withdrawal amount must be greater than zero.\")\n",
    "        else:\n",
    "            self.balance -= amount\n",
    "            print(f\"withdrew {amount}. New balance: {self.balance}\")  \n",
    "    def display_balance(self):\n",
    "            print(f\"current balance: {self.balance}\")\n",
    "\n",
    "account = BankAccount(\"123456789\", \"John Doe\", 1000)    \n",
    "account.display_balance()  \n",
    "account.deposite(500)   \n",
    "account.withdraw(300)   \n",
    "account.display_balance()\n",
    "\n",
    "\n",
    "\n",
    "\n",
    "\n",
    "\n"
   ]
  },
  {
   "cell_type": "code",
   "execution_count": 2,
   "metadata": {},
   "outputs": [
    {
     "name": "stdout",
     "output_type": "stream",
     "text": [
      "Title: The Great Gatsby\n",
      "Author: F. Scott Fitzgerald\n",
      "Price: $200.00\n",
      "Doscount of 10% applied. New price: 180.000000\n",
      "Title: The Great Gatsby\n",
      "Author: F. Scott Fitzgerald\n",
      "Price: $180.00\n",
      "Discount must be between 0 and 100.\n"
     ]
    }
   ],
   "source": [
    "#.5 Create a class book with.\n",
    "# Attributes:title,author,price.\n",
    "#  Methods: apply_discount(discount) to reduce the price by given percentages.\n",
    "#display_details()to print the book details.\n",
    "class Book:\n",
    "    def __init__(self,title,author,price):\n",
    "        self.title = title\n",
    "        self.author = author\n",
    "        self.price = price\n",
    "\n",
    "    def apply_discount(self, discount):\n",
    "        if 0 <=discount <= 100:\n",
    "            self.price -= self.price * (discount /100)\n",
    "            print(f\"Doscount of {discount}% applied. New price: {self.price:2f}\")\n",
    "        else:\n",
    "            print(\"Discount must be between 0 and 100.\") \n",
    "\n",
    "    def display_details(self):\n",
    "        print(f\"Title: {self.title}\") \n",
    "        print(f\"Author: {self.author}\")  \n",
    "        print(f\"Price: ${self.price:.2f}\")  \n",
    "\n",
    "book = Book(\"The Great Gatsby\", \"F. Scott Fitzgerald\", 200.00) \n",
    "book.display_details()  #display initial book details.\n",
    "book.apply_discount(10)  #Apply a discount\n",
    "book.display_details()    #Display book details after discount\n",
    "book.apply_discount(120)  \n",
    "\n",
    "\n",
    "\n"
   ]
  },
  {
   "cell_type": "code",
   "execution_count": 7,
   "metadata": {},
   "outputs": [
    {
     "name": "stdout",
     "output_type": "stream",
     "text": [
      "Addition (7 + 5): 8\n",
      "Subtraction(7 - 5): 2\n",
      "Multiplication (7 * 5): 15\n",
      "Division (7 / 5): 1.6666666666666667\n",
      "Division (7 / 0): Error: Division by zero is not allowed.\n"
     ]
    }
   ],
   "source": [
    "#6. Create a class Calculator with: A method add(a, b) to add two numbers.\n",
    "#A method subtract(a, b) to subtract two numbers.\n",
    "#A method multiply(a, b) to multiply two numbers.\n",
    "#A method divide(a, b) to divide two numbers (handle division by zero gracefully).\n",
    "\n",
    "class Calculator:\n",
    "    def add(self, a, b):\n",
    "        return a +b\n",
    "    def subtract(self, a, b):\n",
    "        return a - b\n",
    "    def multiply(self, a, b):\n",
    "        return a * b\n",
    "    def divide(self, a, b):\n",
    "        if b==0:\n",
    "            return \"Error: Division by zero is not allowed.\"\n",
    "        return a / b\n",
    "calc = Calculator() \n",
    "\n",
    "print(\"Addition (7 + 5):\", calc.add(5, 3))\n",
    "print(\"Subtraction(7 - 5):\", calc.subtract(5, 3))\n",
    "print(\"Multiplication (7 * 5):\", calc.multiply(5, 3))\n",
    "print(\"Division (7 / 5):\", calc.divide(5, 3))\n",
    "print(\"Division (7 / 0):\", calc.divide(5, 0))\n",
    "\n",
    "\n",
    "    "
   ]
  },
  {
   "cell_type": "code",
   "execution_count": 9,
   "metadata": {},
   "outputs": [
    {
     "name": "stdout",
     "output_type": "stream",
     "text": [
      "Hello, my name is Sita, I am 35 yers old, and I am a female.\n",
      "Hello, my name is Ram, I am 45 years old, I am a male, and I work as a Software Engineer.\n"
     ]
    }
   ],
   "source": [
    "#7. Write a class Person with: Attributes:name, age, gender.\n",
    "#Method introduce() to print a messsage like: \"Hello, my name is [name], I am [age] years old,\n",
    "# and I am a [gender].\" o Create a subclass Employee that adds:\n",
    "#Attribute: job_title. #Override introduce() to include the job title.\n",
    "\n",
    "class Person:\n",
    "    def __init__(self,name,age,gender):\n",
    "        self.name=name\n",
    "        self.age=age\n",
    "        self.gender=gender\n",
    "\n",
    "    def introduce(self):\n",
    "        print(f\"Hello, my name is {self.name}, I am {self.age} yers old, and I am a {self.gender}.\")  \n",
    "\n",
    "class Employee(Person):\n",
    "    def __init__(self, name, age, gender, job_title):\n",
    "        super().__init__(name, age, gender)  \n",
    "        self.job_title = job_title\n",
    "\n",
    "    def introduce(self):\n",
    "        print(f\"Hello, my name is {self.name}, I am {self.age} years old, I am a {self.gender}, and I work as a {self.job_title}.\")     \n",
    "\n",
    "#Example usage\n",
    "person = Person(\"Sita\", 35, \"female\")  \n",
    "person.introduce()\n",
    "employee = Employee (\"Ram\", 45, \"male\", \"Software Engineer\")\n",
    "employee.introduce()"
   ]
  },
  {
   "cell_type": "markdown",
   "metadata": {},
   "source": [
    "\n",
    "SECTION 4: File Handling\n",
    "\n"
   ]
  },
  {
   "cell_type": "code",
   "execution_count": 15,
   "metadata": {},
   "outputs": [
    {
     "name": "stdout",
     "output_type": "stream",
     "text": [
      "1\n",
      "2\n",
      "3\n",
      "4\n",
      "5\n",
      "6\n",
      "7\n",
      "8\n",
      "9\n",
      "10\n",
      "\n"
     ]
    }
   ],
   "source": [
    "#1. File Creation and Writing: Write a python script to:\n",
    "#  Create a file named data.txt.\n",
    "#  Write the numbers from 1 to 10 (each on a new line) to the file. \n",
    "# Read the file and print its contents.\n",
    "\n",
    "file_name = \"data.txt\"\n",
    "with open(file_name, \"w\") as file:\n",
    "    for number in range(1, 11):\n",
    "        file.write(f\"{number}\\n\")\n",
    "\n",
    "with open(file_name, \"r\") as file:\n",
    "    contents = file.read() \n",
    "\n",
    "    print(\"contents of the file:\")\n",
    "    print(con)"
   ]
  },
  {
   "cell_type": "code",
   "execution_count": null,
   "metadata": {},
   "outputs": [],
   "source": [
    "#2. Word Count in File: Write a program that reads a file named sample.txt, counts the number of words in it, and prints the result.\n"
   ]
  }
 ],
 "metadata": {
  "kernelspec": {
   "display_name": "Python 3",
   "language": "python",
   "name": "python3"
  },
  "language_info": {
   "codemirror_mode": {
    "name": "ipython",
    "version": 3
   },
   "file_extension": ".py",
   "mimetype": "text/x-python",
   "name": "python",
   "nbconvert_exporter": "python",
   "pygments_lexer": "ipython3",
   "version": "3.13.0"
  }
 },
 "nbformat": 4,
 "nbformat_minor": 2
}
